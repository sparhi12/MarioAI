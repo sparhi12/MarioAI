{
 "cells": [
  {
   "cell_type": "code",
   "execution_count": null,
   "metadata": {
    "scrolled": true
   },
   "outputs": [
    {
     "name": "stderr",
     "output_type": "stream",
     "text": [
      "c:\\users\\sparh\\appdata\\local\\programs\\python\\python37\\lib\\site-packages\\neat\\aggregations.py:18: RuntimeWarning: overflow encountered in double_scalars\n",
      "  return reduce(mul, x, 1.0)\n",
      "c:\\users\\sparh\\appdata\\local\\programs\\python\\python37\\lib\\site-packages\\neat\\aggregations.py:18: RuntimeWarning: invalid value encountered in double_scalars\n",
      "  return reduce(mul, x, 1.0)\n"
     ]
    },
    {
     "name": "stdout",
     "output_type": "stream",
     "text": [
      "1 200.0\n",
      "2 0.0\n",
      "3 0.0\n",
      "4 0.0\n",
      "5 0.0\n",
      "6 0.0\n",
      "7 0.0\n",
      "8 185.0\n",
      "9 0.0\n",
      "10 0.0\n"
     ]
    }
   ],
   "source": [
    "import retro\n",
    "import numpy as np\n",
    "import cv2\n",
    "import neat\n",
    "import pickle\n",
    "\n",
    "env = retro.make(game='SuperMarioBros-Nes', state='Level1-1')\n",
    "\n",
    "def eval_genomes(genomes, config):\n",
    "    \n",
    "    for genome_id, genome in genomes:\n",
    "        print(\"new generation\")\n",
    "        ob =  env.reset()\n",
    "        ac = env.action_space.sample()\n",
    "    \n",
    "        inx, iny, inc = env.observation_space.shape\n",
    "        inx = int(inx / 8)\n",
    "        iny = int(iny / 8)\n",
    "    \n",
    "        net = neat.nn.recurrent.RecurrentNetwork.create(genome, config)\n",
    "    \n",
    "        current_max_fitness = 0\n",
    "        fitness_current = 0\n",
    "        frame = 0\n",
    "        counter = 0\n",
    "        xpos = 0\n",
    "        xpos_max = 0\n",
    "        \n",
    "        done = False\n",
    "        \n",
    "        while not done:\n",
    "            env.render()\n",
    "            frame += 1\n",
    "            \n",
    "            ob = cv2.resize(ob, (inx,iny))\n",
    "            ob = cv2.cvtColor(ob, cv2.COLOR_BGR2GRAY)\n",
    "            ob = np.reshape(ob, (inx,iny))\n",
    "            \n",
    "            flattened_img = np.ndarray.flatten(ob)\n",
    "            \n",
    "            action = net.activate(flattened_img)\n",
    "            \n",
    "            ob, rew, done, info = env.step(action)\n",
    "            \n",
    "            fitness_current += rew\n",
    "            \n",
    "            if fitness_current > current_max_fitness:\n",
    "                current_max_fitness = fitness_current\n",
    "                counter = 0\n",
    "            else:\n",
    "                counter += 1\n",
    "                \n",
    "            if done or counter == 250:\n",
    "                done = True\n",
    "                print(genome_id, fitness_current)\n",
    "                \n",
    "            genome.fitness = fitness_current\n",
    "            \n",
    "        \n",
    "config = neat.Config(neat.DefaultGenome, neat.DefaultReproduction, neat.DefaultSpeciesSet, neat.DefaultStagnation, 'config-feedforward.txt')\n",
    "\n",
    "p = neat.Population(config)\n",
    "\n",
    "winner = p.run(eval_genomes)\n"
   ]
  },
  {
   "cell_type": "code",
   "execution_count": 6,
   "metadata": {},
   "outputs": [],
   "source": [
    "env.close()"
   ]
  },
  {
   "cell_type": "code",
   "execution_count": null,
   "metadata": {},
   "outputs": [],
   "source": []
  }
 ],
 "metadata": {
  "kernelspec": {
   "display_name": "Python 3",
   "language": "python",
   "name": "python3"
  },
  "language_info": {
   "codemirror_mode": {
    "name": "ipython",
    "version": 3
   },
   "file_extension": ".py",
   "mimetype": "text/x-python",
   "name": "python",
   "nbconvert_exporter": "python",
   "pygments_lexer": "ipython3",
   "version": "3.7.7"
  }
 },
 "nbformat": 4,
 "nbformat_minor": 4
}
